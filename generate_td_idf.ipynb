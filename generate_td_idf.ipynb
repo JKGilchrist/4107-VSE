{
 "cells": [
  {
   "cell_type": "code",
   "execution_count": 22,
   "metadata": {},
   "outputs": [],
   "source": [
    "import pandas as pd\n",
    "import pickle\n",
    "import math\n",
    "import numpy as np\n",
    "from string_formatting import get_formatted_tokens"
   ]
  },
  {
   "cell_type": "code",
   "execution_count": 23,
   "metadata": {},
   "outputs": [],
   "source": [
    "infile = open(\"save_files/description_index.obj\", \"rb\")\n",
    "desc = pickle.load(infile)\n",
    "infile.close()\n",
    "infile = open(\"save_files/title_index.obj\", \"rb\")\n",
    "title = pickle.load(infile)\n",
    "infile.close()\n",
    "corpus = pd.read_csv(\"save_files/corpus.csv\", sep=\"|\")"
   ]
  },
  {
   "cell_type": "code",
   "execution_count": 24,
   "metadata": {},
   "outputs": [],
   "source": [
    "corpus['title'] = corpus['title'].apply(lambda x: get_formatted_tokens(x))\n",
    "corpus['description'] = corpus['description'].apply(lambda x: get_formatted_tokens(x))"
   ]
  },
  {
   "cell_type": "markdown",
   "metadata": {},
   "source": [
    "Generate tf"
   ]
  },
  {
   "cell_type": "code",
   "execution_count": 25,
   "metadata": {},
   "outputs": [],
   "source": [
    "for k,v in title.items():\n",
    "    for i in range(len(v)):\n",
    "        lst = corpus.loc[v[i], 'title']\n",
    "        v[i] = (v[i], lst.count(k))"
   ]
  },
  {
   "cell_type": "code",
   "execution_count": 26,
   "metadata": {},
   "outputs": [],
   "source": [
    "for k,v in desc.items():\n",
    "    for i in range(len(v)):\n",
    "        lst = corpus.loc[v[i], 'description']\n",
    "        v[i] = (v[i], lst.count(k))"
   ]
  },
  {
   "cell_type": "markdown",
   "metadata": {},
   "source": [
    "Normalize using log(1+tf) where tf is the raw frequency"
   ]
  },
  {
   "cell_type": "code",
   "execution_count": 27,
   "metadata": {
    "scrolled": false
   },
   "outputs": [],
   "source": [
    "for k,v in desc.items():\n",
    "    for i in range(len(v)):\n",
    "        v[i] = list(v[i])\n",
    "        v[i][1] = math.log(1+v[i][1])\n",
    "        v[i] = tuple(v[i])"
   ]
  },
  {
   "cell_type": "code",
   "execution_count": 28,
   "metadata": {},
   "outputs": [],
   "source": [
    "for k,v in title.items():\n",
    "    for i in range(len(v)):\n",
    "        v[i] = list(v[i])\n",
    "        v[i][1] = math.log(1+v[i][1])\n",
    "        v[i] = tuple(v[i])"
   ]
  },
  {
   "cell_type": "markdown",
   "metadata": {},
   "source": [
    "tf-idf"
   ]
  },
  {
   "cell_type": "code",
   "execution_count": 29,
   "metadata": {},
   "outputs": [],
   "source": [
    "for k,v in title.items():\n",
    "    for i in range(len(v)):\n",
    "        v[i] = list(v[i])\n",
    "        v[i][1] = v[i][1] * math.log(624/len(v))\n",
    "        v[i] = tuple(v[i])"
   ]
  },
  {
   "cell_type": "code",
   "execution_count": 30,
   "metadata": {},
   "outputs": [],
   "source": [
    "for k,v in desc.items():\n",
    "    for i in range(len(v)):\n",
    "        v[i] = list(v[i])\n",
    "        v[i][1] = v[i][1] * math.log(624/len(v))\n",
    "        v[i] = tuple(v[i])"
   ]
  },
  {
   "cell_type": "code",
   "execution_count": 33,
   "metadata": {},
   "outputs": [],
   "source": [
    "pickle.dump(title, open(\"save_files/title_index_with_weight.obj\", \"wb\"  ) )"
   ]
  },
  {
   "cell_type": "code",
   "execution_count": 34,
   "metadata": {},
   "outputs": [],
   "source": [
    "pickle.dump(desc, open(\"save_files/description_index_with_weight.obj\", \"wb\"  ) )"
   ]
  },
  {
   "cell_type": "code",
   "execution_count": null,
   "metadata": {},
   "outputs": [],
   "source": []
  }
 ],
 "metadata": {
  "kernelspec": {
   "display_name": "Python 3",
   "language": "python",
   "name": "python3"
  },
  "language_info": {
   "codemirror_mode": {
    "name": "ipython",
    "version": 3
   },
   "file_extension": ".py",
   "mimetype": "text/x-python",
   "name": "python",
   "nbconvert_exporter": "python",
   "pygments_lexer": "ipython3",
   "version": "3.7.4"
  }
 },
 "nbformat": 4,
 "nbformat_minor": 2
}
